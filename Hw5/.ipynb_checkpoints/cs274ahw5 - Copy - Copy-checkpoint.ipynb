{
 "cells": [
  {
   "cell_type": "code",
   "execution_count": 1,
   "metadata": {},
   "outputs": [],
   "source": [
    "import numpy as np\n",
    "import matplotlib.pyplot as plt\n",
    "import math\n",
    "import pandas as pd"
   ]
  },
  {
   "cell_type": "code",
   "execution_count": 2,
   "metadata": {},
   "outputs": [],
   "source": [
    "from numpy import asarray as arr\n",
    "from numpy import asmatrix as mat\n",
    "from numpy import atleast_2d as twod"
   ]
  },
  {
   "cell_type": "markdown",
   "metadata": {},
   "source": [
    "### Prob 1 Set up"
   ]
  },
  {
   "cell_type": "markdown",
   "metadata": {},
   "source": [
    "$$J_i(\\beta) =  \\begin{cases} y^{(i)} \\log( f(x^{(i)} \\cdot \\beta)) & \\mbox{if}\\  y^{(i)}=1 \\\\ (1-y^{(i)})\\log(1-f(x^{(i)} \\cdot \\beta)) & \\mbox{if}\\  y^{(i)}=0 \\end{cases}$$\n",
    "\n",
    "\n",
    "$$ \\sigma(r) = (1+exp(-r))^{-1}$$\n",
    "\n",
    "$$ J_i(\\beta) =  y^{(i)} \\log( f(x^{(i)} \\cdot \\beta)) + (1-y^{(i)}) log(1-f(x^{(i)} \\cdot \\beta))$$ \n",
    "\n",
    "Thus, its gradient is:\n",
    "$$\\nabla J_{i,j}(\\beta) = \\frac{y^{(i)} f ' (x^{(i)} \\cdot \\beta) \\cdot }{f(x^{(i)} \\cdot \\beta)} - \\frac{(1-y^{(i)}) \\cdot f ' (x^{(i)} \\cdot \\beta)}{1-f(x^{(i)} \\cdot \\beta)}$$ \n",
    "\n",
    "$$f ' (x^{(i)} \\cdot \\beta) = f (x^{(i)} \\cdot \\beta) \\cdot (1-f (x^{(i)} \\cdot \\beta)) \\cdot (x^{(i)} \\cdot \\beta) '$$\n",
    "\n",
    "$$f ' (x^{(i)} \\cdot \\beta) = f (x^{(i)} \\cdot \\beta) \\cdot (1-f (x^{(i)} \\cdot \\beta)) \\cdot x^{(i,j)}$$\n",
    "\n",
    "$$\\nabla J_{i,j}(\\beta) = \\frac{y^{(i)} f ' (x^{(i)} \\cdot \\beta)  }{f(x^{(i)} \\cdot \\beta)} - \\frac{(1-y^{(i)}) \\cdot f ' (x^{(i)} \\cdot \\beta)}{1-f(x^{(i)} \\cdot \\beta)}$$\n",
    "\n",
    "$$\\nabla J_{i,j}(\\beta) = \\frac{y^{(i)} \\cdot x^{(i,j)}\\cdot f (x^{(i)} \\cdot \\beta) \\cdot (1-f (x^{(i)} \\cdot \\beta))  }{f(x^{(i)} \\cdot \\beta)} - \\frac{(1-y^{(i)}) \\cdot x^{(i,j)} \\cdot f (x^{(i)} \\cdot \\beta) \\cdot (1-f (x^{(i)} \\cdot \\beta)}{1-f(x^{(i)} \\cdot \\beta)}$$\n",
    "\n",
    "$$\\nabla J_{i,j}(\\beta) = y^{(i)}  \\cdot (1-f (x^{(i)} \\cdot \\beta))\\cdot x^{(i,j)} - (1-y^{(i)}) \\cdot f (x^{(i)} \\cdot \\beta)\\cdot x^{(i,j)}$$\n",
    "\n",
    "$$\\nabla J_{i,j}(\\beta) = y^{(i)}  \\cdot (1)\\cdot x^{(i,j)} - (1) \\cdot f (x^{(i)} \\cdot \\beta)\\cdot x^{(i,j)}$$\n",
    "\n",
    "$$\\nabla J_{i,j}(\\beta) = (y^{(i)} - f (x^{(i)} \\cdot \\beta))\\cdot x^{(i,j)}$$\n",
    "\n",
    "$$\\nabla l_{j}(\\beta) = \\frac{1}{N} \\sum_{i=1}^{N} (y^{(i)} - f (x^{(i)} \\cdot \\beta))\\cdot x^{(i,j)}$$"
   ]
  },
  {
   "cell_type": "markdown",
   "metadata": {},
   "source": [
    "log likelihood grad[j] =  $np.dot((Y-f(X,beta)).T,X[:,j]).T/N$\n",
    "\n",
    "log likelihood grad    =  $np.dot((Y-f(X,beta)).T,X).T/N$"
   ]
  },
  {
   "cell_type": "markdown",
   "metadata": {},
   "source": [
    " "
   ]
  },
  {
   "cell_type": "code",
   "execution_count": 3,
   "metadata": {},
   "outputs": [],
   "source": [
    "def f(X,beta):\n",
    "    return 1/(1+np.exp(-X.dot(beta)))\n",
    "\n",
    "def dfdx(X,beta):\n",
    "    # ∂f(x,beta)/∂x = f(x,beta)(1 − f(x,beta))*∂z/∂x \n",
    "    return f(X,beta)*(1-f(X,beta))*beta  \n",
    "\n",
    "def loglike(X,beta,Y):\n",
    "    N,M = X.shape\n",
    "    like = [None]*N\n",
    "    for i in range(N):\n",
    "        like[i] = np.log(f(X[i,:],beta)) if Y[i] else np.log(1-f(X[i,:],beta))\n",
    "    return np.mean(like)\n",
    "\n",
    "def loglike_grad(X,beta,Y):\n",
    "    N,M = X.shape\n",
    "    like_grad_beta = [None]*M\n",
    "    like_grad_beta = np.dot((Y-f(X,beta)).T,X).T/N\n",
    "    return arr(like_grad_beta)\n",
    "\n",
    "def err_rate(X,beta,Y):\n",
    "    N,M = X.shape\n",
    "    predict = np.zeros(Y.shape)\n",
    "    predict[f(X,beta)>0.5]=1\n",
    "    return np.mean(predict!=Y)\n",
    "\n",
    "def train(X,beta,Y,alpha,stopEpochs=250):\n",
    "    log_like = arr([None]*stopEpochs)\n",
    "    for i in range(stopEpochs):\n",
    "        beta += alpha*loglike_grad(X,beta,Y)\n",
    "        log_like[i] = loglike(X,beta,Y)\n",
    "    return beta,log_like\n",
    "def get_matrix(X,parameter_list,stopEpochs):\n",
    "    beta_matrix = np.zeros((Xtr.shape[1],len(parameter_list)))\n",
    "    loglike_matrix = np.zeros((stopEpochs,len(parameter_list)))\n",
    "    return beta_matrix,loglike_matrix\n",
    "def load_data_pairs(type_str):\n",
    "    return pd.read_csv(\"./mnist_2s_and_6s/\"+type_str+\"_x.csv\").values,pd.read_csv(\"./mnist_2s_and_6s/\"+type_str+\"_y.csv\").values"
   ]
  },
  {
   "cell_type": "markdown",
   "metadata": {},
   "source": [
    "### Prob 1.1.1"
   ]
  },
  {
   "cell_type": "code",
   "execution_count": 4,
   "metadata": {},
   "outputs": [],
   "source": [
    "Xtr,Ytr = load_data_pairs(\"train\")\n",
    "Xva,Yva = load_data_pairs(\"valid\")\n",
    "Xte,Yte = load_data_pairs(\"test\")"
   ]
  },
  {
   "cell_type": "code",
   "execution_count": 5,
   "metadata": {},
   "outputs": [],
   "source": [
    "Xtr = np.hstack([Xtr,np.ones((Xtr.shape[0],1))])\n",
    "Xva = np.hstack([Xva,np.ones((Xva.shape[0],1))])\n",
    "Xte = np.hstack([Xte,np.ones((Xte.shape[0],1))])"
   ]
  },
  {
   "cell_type": "code",
   "execution_count": 6,
   "metadata": {
    "scrolled": false
   },
   "outputs": [],
   "source": [
    "learning_rate = [1e-3,1e-2,1e-1]\n",
    "stopEpochs = 250\n",
    "beta_matrix,loglike_matrix = get_matrix(Xtr,learning_rate,stopEpochs)\n",
    "for k,rate in enumerate(learning_rate):\n",
    "    beta = np.random.normal(scale=.001,size=(Xtr.shape[1],1))\n",
    "    alpha = learning_rate[k]\n",
    "    beta,log_like = train(Xtr,beta,Ytr,alpha,stopEpochs)\n",
    "    beta_matrix[:,k] = beta.T.flatten()\n",
    "    loglike_matrix[:,k] = log_like.T.flatten()\n",
    "    "
   ]
  },
  {
   "cell_type": "code",
   "execution_count": 7,
   "metadata": {},
   "outputs": [],
   "source": [
    "validation_loglike = np.zeros((3,1))\n",
    "for i in range(3):\n",
    "    validation_loglike[i] = loglike(Xva,beta_matrix[:,i],Yva)\n",
    "test_loglike = loglike(Xte,beta_matrix[:,np.argmax(validation_loglike)],Yte)"
   ]
  },
  {
   "cell_type": "code",
   "execution_count": 8,
   "metadata": {},
   "outputs": [
    {
     "data": {
      "text/plain": [
       "(-0.8, 0.0)"
      ]
     },
     "execution_count": 8,
     "metadata": {},
     "output_type": "execute_result"
    },
    {
     "data": {
      "image/png": "[encoded data removed]",
      "text/plain": [
       "<Figure size 648x576 with 1 Axes>"
      ]
     },
     "metadata": {
      "needs_background": "light"
     },
     "output_type": "display_data"
    }
   ],
   "source": [
    "fig,ax = plt.subplots(1,1,figsize=(9,8))\n",
    "ax.plot(range(stopEpochs),loglike_matrix[:,0],'b--')\n",
    "ax.hlines(validation_loglike[0], 0, 250, colors='g')\n",
    "ax.plot(range(stopEpochs),loglike_matrix[:,1],'r--')\n",
    "ax.hlines(validation_loglike[1], 0, 250, colors='c')\n",
    "ax.plot(range(stopEpochs),loglike_matrix[:,2],'m--')\n",
    "ax.hlines(validation_loglike[2], 0, 250, colors='y')\n",
    "ax.hlines(test_loglike, 0, 250, colors = 'k')\n",
    "ax.legend([\"Traning, Rate 0.001\",\n",
    "           \"Traning, Rate 0.01\",\n",
    "           \"Traning, Rate 0.1\",\n",
    "           \"Validation, Rate 0.001\",\n",
    "           \"Validation, Rate 0.01\",\n",
    "           \"Validation, Rate 0.1\",\n",
    "          \"Test,Rate 0.1\"])\n",
    "ax.set_title(\"MNIST Results for Various Logistic Regresion Models\",fontsize=15)\n",
    "plt.xlabel(\"Epoch (t)\",fontsize=15)\n",
    "plt.ylabel(\"Log Likelihood\",fontsize=15)\n",
    "plt.xlim((0,250))\n",
    "plt.ylim((-0.8,0.0))"
   ]
  },
  {
   "cell_type": "markdown",
   "metadata": {},
   "source": [
    "### Prob 1.1.2"
   ]
  },
  {
   "cell_type": "code",
   "execution_count": 9,
   "metadata": {},
   "outputs": [],
   "source": [
    "Training_Error_list = [None]*3\n",
    "Validation_Error_list = [None]*3\n",
    "Test_Error_list = [None]*3\n",
    "Training_like_list = [None]*3\n",
    "Validation_like_list = [None]*3\n",
    "Test_like_list = [None]*3\n",
    "for i in range(3):\n",
    "    Training_Error_list[i]  = err_rate(Xtr,beta_matrix[:,i],Ytr)\n",
    "    Validation_Error_list[i]= err_rate(Xva,beta_matrix[:,i],Yva)\n",
    "    Test_Error_list[i]      = err_rate(Xte,beta_matrix[:,i],Yte)\n",
    "    Training_like_list[i]   = loglike(Xtr,beta_matrix[:,i],Ytr)\n",
    "    Validation_like_list[i] = loglike(Xva,beta_matrix[:,i],Yva)\n",
    "    Test_like_list[i]       = loglike(Xte,beta_matrix[:,i],Yte)"
   ]
  },
  {
   "cell_type": "code",
   "execution_count": 10,
   "metadata": {},
   "outputs": [
    {
     "data": {
      "text/html": [
       "<div>\n",
       "<style scoped>\n",
       "    .dataframe tbody tr th:only-of-type {\n",
       "        vertical-align: middle;\n",
       "    }\n",
       "\n",
       "    .dataframe tbody tr th {\n",
       "        vertical-align: top;\n",
       "    }\n",
       "\n",
       "    .dataframe thead th {\n",
       "        text-align: right;\n",
       "    }\n",
       "</style>\n",
       "<table border=\"1\" class=\"dataframe\">\n",
       "  <thead>\n",
       "    <tr style=\"text-align: right;\">\n",
       "      <th></th>\n",
       "      <th>Training Error</th>\n",
       "      <th>Validation Error</th>\n",
       "      <th>Test Error</th>\n",
       "    </tr>\n",
       "  </thead>\n",
       "  <tbody>\n",
       "    <tr>\n",
       "      <th>Rate 0.001</th>\n",
       "      <td>0.055984</td>\n",
       "      <td>0.044782</td>\n",
       "      <td>0.043342</td>\n",
       "    </tr>\n",
       "    <tr>\n",
       "      <th>Rate 0.01</th>\n",
       "      <td>0.047322</td>\n",
       "      <td>0.038868</td>\n",
       "      <td>0.034987</td>\n",
       "    </tr>\n",
       "    <tr>\n",
       "      <th>Rate 0.1</th>\n",
       "      <td>0.027253</td>\n",
       "      <td>0.024081</td>\n",
       "      <td>0.022454</td>\n",
       "    </tr>\n",
       "  </tbody>\n",
       "</table>\n",
       "</div>"
      ],
      "text/plain": [
       "            Training Error  Validation Error  Test Error\n",
       "Rate 0.001        0.055984          0.044782    0.043342\n",
       "Rate 0.01         0.047322          0.038868    0.034987\n",
       "Rate 0.1          0.027253          0.024081    0.022454"
      ]
     },
     "execution_count": 10,
     "metadata": {},
     "output_type": "execute_result"
    }
   ],
   "source": [
    "import pandas as pd\n",
    "import os\n",
    "new_dataframe = pd.DataFrame(\n",
    "    {\n",
    "        \"Training Error\" : Training_Error_list,\n",
    "        \"Validation Error\":Validation_Error_list,\n",
    "        \"Test Error\":Test_Error_list \n",
    "    },\n",
    "    index = ['Rate 0.001','Rate 0.01','Rate 0.1']\n",
    ")\n",
    "new_dataframe"
   ]
  },
  {
   "cell_type": "code",
   "execution_count": 11,
   "metadata": {},
   "outputs": [
    {
     "data": {
      "text/html": [
       "<div>\n",
       "<style scoped>\n",
       "    .dataframe tbody tr th:only-of-type {\n",
       "        vertical-align: middle;\n",
       "    }\n",
       "\n",
       "    .dataframe tbody tr th {\n",
       "        vertical-align: top;\n",
       "    }\n",
       "\n",
       "    .dataframe thead th {\n",
       "        text-align: right;\n",
       "    }\n",
       "</style>\n",
       "<table border=\"1\" class=\"dataframe\">\n",
       "  <thead>\n",
       "    <tr style=\"text-align: right;\">\n",
       "      <th></th>\n",
       "      <th>Training likelihood</th>\n",
       "      <th>Validation likelihood</th>\n",
       "      <th>Test likelihood</th>\n",
       "    </tr>\n",
       "  </thead>\n",
       "  <tbody>\n",
       "    <tr>\n",
       "      <th>Rate 0.001</th>\n",
       "      <td>-0.514456</td>\n",
       "      <td>-0.510959</td>\n",
       "      <td>-0.504993</td>\n",
       "    </tr>\n",
       "    <tr>\n",
       "      <th>Rate 0.01</th>\n",
       "      <td>-0.205288</td>\n",
       "      <td>-0.197685</td>\n",
       "      <td>-0.188261</td>\n",
       "    </tr>\n",
       "    <tr>\n",
       "      <th>Rate 0.1</th>\n",
       "      <td>-0.088661</td>\n",
       "      <td>-0.085487</td>\n",
       "      <td>-0.080554</td>\n",
       "    </tr>\n",
       "  </tbody>\n",
       "</table>\n",
       "</div>"
      ],
      "text/plain": [
       "            Training likelihood  Validation likelihood  Test likelihood\n",
       "Rate 0.001            -0.514456              -0.510959        -0.504993\n",
       "Rate 0.01             -0.205288              -0.197685        -0.188261\n",
       "Rate 0.1              -0.088661              -0.085487        -0.080554"
      ]
     },
     "execution_count": 11,
     "metadata": {},
     "output_type": "execute_result"
    }
   ],
   "source": [
    "new_dataframe = pd.DataFrame(\n",
    "    {\n",
    "        \"Training likelihood\" : Training_like_list,\n",
    "        \"Validation likelihood\":Validation_like_list,\n",
    "        \"Test likelihood\":Test_like_list \n",
    "    },\n",
    "    index = ['Rate 0.001','Rate 0.01','Rate 0.1']\n",
    ")\n",
    "new_dataframe"
   ]
  },
  {
   "cell_type": "markdown",
   "metadata": {},
   "source": [
    "### Prob 1.1.3"
   ]
  },
  {
   "cell_type": "code",
   "execution_count": null,
   "metadata": {},
   "outputs": [],
   "source": []
  },
  {
   "cell_type": "markdown",
   "metadata": {},
   "source": [
    "### Prob 1.2.1"
   ]
  },
  {
   "cell_type": "code",
   "execution_count": 12,
   "metadata": {},
   "outputs": [],
   "source": [
    "from random import sample"
   ]
  },
  {
   "cell_type": "code",
   "execution_count": 59,
   "metadata": {},
   "outputs": [],
   "source": [
    "def loglike_grad_stoch(X,beta,Y,M):\n",
    "    N,P = X.shape\n",
    "    sample_stoch = np.sort(sample(range(N),np.int(M)))\n",
    "    like_grad_beta = [None]*P\n",
    "    like_grad_beta = np.dot((Y[sample_stoch]-f(X[sample_stoch],beta)).T,X[sample_stoch,:]).T/M\n",
    "    return arr(like_grad_beta)\n",
    "\n",
    "def train_stoch(X,beta,Y,alpha,M,stopEpochs):\n",
    "    N,P = X.shape\n",
    "    t_ext = np.int(np.floor(stopEpochs*N/M))\n",
    "    log_like = arr([None]*stopEpochs)\n",
    "    j = 0\n",
    "    res = [np.floor((t_ext)/stopEpochs),np.ceil((t_ext)/stopEpochs)]\n",
    "    if stopEpochs*res[1]>t_ext:\n",
    "        res[1] =res[0]\n",
    "    for i in range(t_ext):\n",
    "        beta += alpha*loglike_grad_stoch(X,beta,Y,M)\n",
    "        if i%np.int(res[1]) ==0 or i == np.int(t_ext-1):\n",
    "            log_like[j] = loglike(X,beta,Y)\n",
    "            if j<stopEpochs-1:\n",
    "                j +=1\n",
    "    return beta,log_like"
   ]
  },
  {
   "cell_type": "code",
   "execution_count": 60,
   "metadata": {},
   "outputs": [
    {
     "name": "stdout",
     "output_type": "stream",
     "text": [
      "2366\n",
      "23667\n",
      "236675\n"
     ]
    }
   ],
   "source": [
    "batch_size = [1e+3,1e+2,1e+1]\n",
    "stopEpochs = 250\n",
    "beta_matrix2,loglike_matrix2 = get_matrix(Xtr,batch_size,stopEpochs)\n",
    "for k,M in enumerate(batch_size):\n",
    "    endl = np.int(np.floor(stopEpochs*Xtr.shape[0]/M))\n",
    "    print(endl)\n",
    "    beta = np.random.normal(scale=.001,size=(Xtr.shape[1],1))\n",
    "    alpha = 0.01\n",
    "    beta,log_like = train_stoch(Xtr,beta,Ytr,alpha,M,stopEpochs)\n",
    "    beta_matrix2[:,k] = beta.T.flatten()\n",
    "    loglike_matrix2[:,k] = log_like.T.flatten()   "
   ]
  },
  {
   "cell_type": "code",
   "execution_count": 61,
   "metadata": {},
   "outputs": [],
   "source": [
    "validation_loglike = np.zeros((3,1))\n",
    "for i in range(3):\n",
    "    validation_loglike[i] = loglike(Xva,beta_matrix2[:,i],Yva)\n",
    "test_loglike = loglike(Xte,beta_matrix2[:,np.argmax(validation_loglike)],Yte)"
   ]
  },
  {
   "cell_type": "code",
   "execution_count": null,
   "metadata": {},
   "outputs": [],
   "source": []
  },
  {
   "cell_type": "code",
   "execution_count": 62,
   "metadata": {},
   "outputs": [
    {
     "data": {
      "text/plain": [
       "(-0.8, 0.0)"
      ]
     },
     "execution_count": 62,
     "metadata": {},
     "output_type": "execute_result"
    },
    {
     "data": {
      "image/png": "[encoded data removed]",
      "text/plain": [
       "<Figure size 648x576 with 1 Axes>"
      ]
     },
     "metadata": {
      "needs_background": "light"
     },
     "output_type": "display_data"
    }
   ],
   "source": [
    "fig,ax = plt.subplots(1,1,figsize=(9,8))\n",
    "ax.plot(range(stopEpochs),loglike_matrix2[0:stopEpochs,0],'b--')\n",
    "ax.hlines(validation_loglike[0], 0, stopEpochs, colors='g')\n",
    "ax.plot(range(stopEpochs),loglike_matrix2[0:stopEpochs,1],'r--')\n",
    "ax.hlines(validation_loglike[1], 0, stopEpochs, colors='c')\n",
    "ax.plot(range(stopEpochs),loglike_matrix2[0:stopEpochs,2],'m--')\n",
    "ax.hlines(validation_loglike[2], 0, stopEpochs, colors='y')\n",
    "ax.hlines(test_loglike, 0, stopEpochs, colors = 'k')\n",
    "ax.legend([\"Traning, Batch Size 1000\",\n",
    "           \"Traning, Batch Size 100\",\n",
    "           \"Traning, Batch Size 10\",\n",
    "           \"Validation, Batch Size 1000\",\n",
    "           \"Validation, Batch Size 100\",\n",
    "           \"Validation, Batch Size 10\",\n",
    "           \"Test,Batch Size 10\"])\n",
    "ax.set_title(\"MNIST Results for Various Logistic Regresion Models\",fontsize=15)\n",
    "plt.xlabel(\"Epoch (t)\",fontsize=15)\n",
    "plt.ylabel(\"Log Likelihood\",fontsize=15)\n",
    "plt.xlim((0,250))\n",
    "plt.ylim((-0.8,0.0))"
   ]
  },
  {
   "cell_type": "markdown",
   "metadata": {},
   "source": [
    "### Prob 1.2.1"
   ]
  },
  {
   "cell_type": "code",
   "execution_count": 63,
   "metadata": {},
   "outputs": [],
   "source": [
    "Training_Error_list = [None]*3\n",
    "Validation_Error_list = [None]*3\n",
    "Test_Error_list = [None]*3\n",
    "Training_like_list = [None]*3\n",
    "Validation_like_list = [None]*3\n",
    "Test_like_list = [None]*3\n",
    "for i in range(3):\n",
    "    Training_Error_list[i]  = err_rate(Xtr,beta_matrix2[:,i],Ytr)\n",
    "    Validation_Error_list[i]= err_rate(Xva,beta_matrix2[:,i],Yva)\n",
    "    Test_Error_list[i]      = err_rate(Xte,beta_matrix2[:,i],Yte)\n",
    "    Training_like_list[i]   = loglike(Xtr,beta_matrix2[:,i],Ytr)\n",
    "    Validation_like_list[i] = loglike(Xva,beta_matrix2[:,i],Yva)\n",
    "    Test_like_list[i]       = loglike(Xte,beta_matrix2[:,i],Yte)"
   ]
  },
  {
   "cell_type": "code",
   "execution_count": 64,
   "metadata": {},
   "outputs": [
    {
     "data": {
      "text/html": [
       "<div>\n",
       "<style scoped>\n",
       "    .dataframe tbody tr th:only-of-type {\n",
       "        vertical-align: middle;\n",
       "    }\n",
       "\n",
       "    .dataframe tbody tr th {\n",
       "        vertical-align: top;\n",
       "    }\n",
       "\n",
       "    .dataframe thead th {\n",
       "        text-align: right;\n",
       "    }\n",
       "</style>\n",
       "<table border=\"1\" class=\"dataframe\">\n",
       "  <thead>\n",
       "    <tr style=\"text-align: right;\">\n",
       "      <th></th>\n",
       "      <th>Training Error</th>\n",
       "      <th>Validation Error</th>\n",
       "      <th>Test Error</th>\n",
       "    </tr>\n",
       "  </thead>\n",
       "  <tbody>\n",
       "    <tr>\n",
       "      <th>Batch Size 1000</th>\n",
       "      <td>0.027253</td>\n",
       "      <td>0.024081</td>\n",
       "      <td>0.022454</td>\n",
       "    </tr>\n",
       "    <tr>\n",
       "      <th>Batch Size 100</th>\n",
       "      <td>0.014894</td>\n",
       "      <td>0.016477</td>\n",
       "      <td>0.015666</td>\n",
       "    </tr>\n",
       "    <tr>\n",
       "      <th>Batch Size 10</th>\n",
       "      <td>0.008556</td>\n",
       "      <td>0.014787</td>\n",
       "      <td>0.016188</td>\n",
       "    </tr>\n",
       "  </tbody>\n",
       "</table>\n",
       "</div>"
      ],
      "text/plain": [
       "                 Training Error  Validation Error  Test Error\n",
       "Batch Size 1000        0.027253          0.024081    0.022454\n",
       "Batch Size 100         0.014894          0.016477    0.015666\n",
       "Batch Size 10          0.008556          0.014787    0.016188"
      ]
     },
     "execution_count": 64,
     "metadata": {},
     "output_type": "execute_result"
    }
   ],
   "source": [
    "import pandas as pd\n",
    "import os\n",
    "new_dataframe = pd.DataFrame(\n",
    "    {\n",
    "        \"Training Error\" : Training_Error_list,\n",
    "        \"Validation Error\":Validation_Error_list,\n",
    "        \"Test Error\":Test_Error_list \n",
    "    },\n",
    "    index = ['Batch Size 1000','Batch Size 100','Batch Size 10']\n",
    ")\n",
    "new_dataframe"
   ]
  },
  {
   "cell_type": "code",
   "execution_count": 65,
   "metadata": {},
   "outputs": [
    {
     "data": {
      "text/html": [
       "<div>\n",
       "<style scoped>\n",
       "    .dataframe tbody tr th:only-of-type {\n",
       "        vertical-align: middle;\n",
       "    }\n",
       "\n",
       "    .dataframe tbody tr th {\n",
       "        vertical-align: top;\n",
       "    }\n",
       "\n",
       "    .dataframe thead th {\n",
       "        text-align: right;\n",
       "    }\n",
       "</style>\n",
       "<table border=\"1\" class=\"dataframe\">\n",
       "  <thead>\n",
       "    <tr style=\"text-align: right;\">\n",
       "      <th></th>\n",
       "      <th>Training Log Likelihood</th>\n",
       "      <th>Validation Log Likelihood</th>\n",
       "      <th>Test Log Likelihood</th>\n",
       "    </tr>\n",
       "  </thead>\n",
       "  <tbody>\n",
       "    <tr>\n",
       "      <th>Batch Size 1000</th>\n",
       "      <td>-0.090183</td>\n",
       "      <td>-0.086888</td>\n",
       "      <td>-0.081863</td>\n",
       "    </tr>\n",
       "    <tr>\n",
       "      <th>Batch Size 100</th>\n",
       "      <td>-0.049824</td>\n",
       "      <td>-0.056282</td>\n",
       "      <td>-0.054351</td>\n",
       "    </tr>\n",
       "    <tr>\n",
       "      <th>Batch Size 10</th>\n",
       "      <td>-0.028825</td>\n",
       "      <td>-0.052545</td>\n",
       "      <td>-0.051858</td>\n",
       "    </tr>\n",
       "  </tbody>\n",
       "</table>\n",
       "</div>"
      ],
      "text/plain": [
       "                 Training Log Likelihood  Validation Log Likelihood  \\\n",
       "Batch Size 1000                -0.090183                  -0.086888   \n",
       "Batch Size 100                 -0.049824                  -0.056282   \n",
       "Batch Size 10                  -0.028825                  -0.052545   \n",
       "\n",
       "                 Test Log Likelihood  \n",
       "Batch Size 1000            -0.081863  \n",
       "Batch Size 100             -0.054351  \n",
       "Batch Size 10              -0.051858  "
      ]
     },
     "execution_count": 65,
     "metadata": {},
     "output_type": "execute_result"
    }
   ],
   "source": [
    "new_dataframe = pd.DataFrame(\n",
    "    {\n",
    "        \"Training Log Likelihood\" : Training_like_list,\n",
    "        \"Validation Log Likelihood\":Validation_like_list,\n",
    "        \"Test Log Likelihood\":Test_like_list \n",
    "    },\n",
    "    index = ['Batch Size 1000','Batch Size 100','Batch Size 10']\n",
    ")\n",
    "new_dataframe"
   ]
  },
  {
   "cell_type": "markdown",
   "metadata": {},
   "source": [
    "### Prob 1.2.3"
   ]
  },
  {
   "cell_type": "code",
   "execution_count": null,
   "metadata": {},
   "outputs": [],
   "source": []
  },
  {
   "cell_type": "markdown",
   "metadata": {},
   "source": [
    "### Prob 2 setup"
   ]
  },
  {
   "cell_type": "code",
   "execution_count": 21,
   "metadata": {},
   "outputs": [],
   "source": [
    "def get_matrix2(X,parameter_list,stopEpochs):\n",
    "    beta_matrix = np.zeros((Xtr.shape[1],len(parameter_list)))\n",
    "    loglike_matrix = np.zeros((stopEpochs+1,len(parameter_list)))\n",
    "    return beta_matrix,loglike_matrix\n",
    "\n",
    "def train_stoch_RM(X,beta,Y,alpha0,M,stopEpochs):\n",
    "    N,P = X.shape\n",
    "    alpha = alpha0\n",
    "    t_ext = np.int(np.floor(stopEpochs*N/M))\n",
    "    log_like = arr([None]*stopEpochs)\n",
    "    j = 0\n",
    "    res = [np.floor((t_ext)/stopEpochs),np.ceil((t_ext)/stopEpochs)]\n",
    "    for i in range(t_ext):\n",
    "        alpha = alpha0/(i+1)\n",
    "        beta += alpha*loglike_grad_stoch(X,beta,Y,M)\n",
    "        if i%np.int(res[1]) ==0 or i == np.int(t_ext-1):\n",
    "            log_like[j] = loglike(X,beta,Y)\n",
    "            if j<stopEpochs-1:\n",
    "                j +=1\n",
    "    return beta,log_like"
   ]
  },
  {
   "cell_type": "markdown",
   "metadata": {},
   "source": [
    "### Prob 2.1.1 Robbins-Monro"
   ]
  },
  {
   "cell_type": "code",
   "execution_count": 22,
   "metadata": {},
   "outputs": [
    {
     "name": "stdout",
     "output_type": "stream",
     "text": [
      "2366\n"
     ]
    }
   ],
   "source": [
    "batch_size = [200]\n",
    "stopEpochs = 50\n",
    "beta_matrix2,loglike_matrix2 = get_matrix2(Xtr,batch_size,stopEpochs)\n",
    "beta = np.random.normal(scale=.001,size=(Xtr.shape[1],1))\n",
    "loglike_matrix2[:,0] = loglike(Xtr,beta,Ytr)\n",
    "\n",
    "for k,M in enumerate(batch_size):\n",
    "    endl = np.int(np.floor(stopEpochs*Xtr.shape[0]/M))\n",
    "    print(endl)\n",
    "    alpha = 0.1\n",
    "    beta,log_like = train_stoch_RM(Xtr,beta,Ytr,alpha,M,stopEpochs)\n",
    "    beta_matrix2[:,k] = beta.T.flatten()\n",
    "    loglike_matrix2[1:,k] = log_like.T.flatten()   "
   ]
  },
  {
   "cell_type": "code",
   "execution_count": 23,
   "metadata": {},
   "outputs": [
    {
     "data": {
      "text/plain": [
       "(-0.8, 0.0)"
      ]
     },
     "execution_count": 23,
     "metadata": {},
     "output_type": "execute_result"
    },
    {
     "data": {
      "image/png": "[encoded data removed]",
      "text/plain": [
       "<Figure size 648x576 with 1 Axes>"
      ]
     },
     "metadata": {
      "needs_background": "light"
     },
     "output_type": "display_data"
    }
   ],
   "source": [
    "validation_loglike = np.zeros((1,1))\n",
    "for i in range(1):\n",
    "    validation_loglike[i] = loglike(Xva,beta_matrix2[:,i],Yva)\n",
    "test_loglike = loglike(Xte,beta_matrix2[:,np.argmax(validation_loglike)],Yte)\n",
    "fig,ax = plt.subplots(1,1,figsize=(9,8))\n",
    "ax.plot(range(0,stopEpochs+1),loglike_matrix2,'b--')\n",
    "ax.hlines(validation_loglike, 0, stopEpochs, colors='g')\n",
    "ax.hlines(test_loglike, 0, stopEpochs, colors = 'k')\n",
    "ax.legend([\"Traning, Robbins-Monro\",\n",
    "           \"Validation, Robbins-Monro\",\n",
    "           \"Test, Robbins-Monro\"])\n",
    "ax.set_title(\"MNIST Results for Various Logistic Regresion Models\",fontsize=15)\n",
    "plt.xlabel(\"Epoch (t)\",fontsize=15)\n",
    "plt.ylabel(\"Log Likelihood\",fontsize=15)\n",
    "plt.xlim((0,50))\n",
    "plt.ylim((-0.8,0.0))"
   ]
  },
  {
   "cell_type": "code",
   "execution_count": 24,
   "metadata": {},
   "outputs": [],
   "source": [
    "Training_Error_list = [None]*1\n",
    "Validation_Error_list = [None]*1\n",
    "Test_Error_list = [None]*1\n",
    "Training_like_list = [None]*1\n",
    "Validation_like_list = [None]*1\n",
    "Test_like_list = [None]*1\n",
    "for i in range(1):\n",
    "    Training_Error_list[i]  = err_rate(Xtr,beta_matrix2[:,i],Ytr)\n",
    "    Validation_Error_list[i]= err_rate(Xva,beta_matrix2[:,i],Yva)\n",
    "    Test_Error_list[i]      = err_rate(Xte,beta_matrix2[:,i],Yte)\n",
    "    Training_like_list[i]   = loglike(Xtr,beta_matrix2[:,i],Ytr)\n",
    "    Validation_like_list[i] = loglike(Xva,beta_matrix2[:,i],Yva)\n",
    "    Test_like_list[i]       = loglike(Xte,beta_matrix2[:,i],Yte)"
   ]
  },
  {
   "cell_type": "code",
   "execution_count": 25,
   "metadata": {},
   "outputs": [
    {
     "data": {
      "text/html": [
       "<div>\n",
       "<style scoped>\n",
       "    .dataframe tbody tr th:only-of-type {\n",
       "        vertical-align: middle;\n",
       "    }\n",
       "\n",
       "    .dataframe tbody tr th {\n",
       "        vertical-align: top;\n",
       "    }\n",
       "\n",
       "    .dataframe thead th {\n",
       "        text-align: right;\n",
       "    }\n",
       "</style>\n",
       "<table border=\"1\" class=\"dataframe\">\n",
       "  <thead>\n",
       "    <tr style=\"text-align: right;\">\n",
       "      <th></th>\n",
       "      <th>Training Error</th>\n",
       "      <th>Validation Error</th>\n",
       "      <th>Test Error</th>\n",
       "    </tr>\n",
       "  </thead>\n",
       "  <tbody>\n",
       "    <tr>\n",
       "      <th>Robbins-Monro</th>\n",
       "      <td>0.051336</td>\n",
       "      <td>0.042248</td>\n",
       "      <td>0.036031</td>\n",
       "    </tr>\n",
       "  </tbody>\n",
       "</table>\n",
       "</div>"
      ],
      "text/plain": [
       "               Training Error  Validation Error  Test Error\n",
       "Robbins-Monro        0.051336          0.042248    0.036031"
      ]
     },
     "execution_count": 25,
     "metadata": {},
     "output_type": "execute_result"
    }
   ],
   "source": [
    "import pandas as pd\n",
    "import os\n",
    "new_dataframe = pd.DataFrame(\n",
    "    {\n",
    "        \"Training Error\" : Training_Error_list,\n",
    "        \"Validation Error\":Validation_Error_list,\n",
    "        \"Test Error\":Test_Error_list \n",
    "    },\n",
    "    index = ['Robbins-Monro']\n",
    ")\n",
    "new_dataframe"
   ]
  },
  {
   "cell_type": "code",
   "execution_count": 26,
   "metadata": {},
   "outputs": [
    {
     "data": {
      "text/html": [
       "<div>\n",
       "<style scoped>\n",
       "    .dataframe tbody tr th:only-of-type {\n",
       "        vertical-align: middle;\n",
       "    }\n",
       "\n",
       "    .dataframe tbody tr th {\n",
       "        vertical-align: top;\n",
       "    }\n",
       "\n",
       "    .dataframe thead th {\n",
       "        text-align: right;\n",
       "    }\n",
       "</style>\n",
       "<table border=\"1\" class=\"dataframe\">\n",
       "  <thead>\n",
       "    <tr style=\"text-align: right;\">\n",
       "      <th></th>\n",
       "      <th>Training Log Likelihood</th>\n",
       "      <th>Validation Log Likelihood</th>\n",
       "      <th>Test Log Likelihood</th>\n",
       "    </tr>\n",
       "  </thead>\n",
       "  <tbody>\n",
       "    <tr>\n",
       "      <th>Robbins-Monro</th>\n",
       "      <td>-0.33481</td>\n",
       "      <td>-0.32853</td>\n",
       "      <td>-0.318466</td>\n",
       "    </tr>\n",
       "  </tbody>\n",
       "</table>\n",
       "</div>"
      ],
      "text/plain": [
       "               Training Log Likelihood  Validation Log Likelihood  \\\n",
       "Robbins-Monro                 -0.33481                   -0.32853   \n",
       "\n",
       "               Test Log Likelihood  \n",
       "Robbins-Monro            -0.318466  "
      ]
     },
     "execution_count": 26,
     "metadata": {},
     "output_type": "execute_result"
    }
   ],
   "source": [
    "new_dataframe = pd.DataFrame(\n",
    "    {\n",
    "        \"Training Log Likelihood\" : Training_like_list,\n",
    "        \"Validation Log Likelihood\":Validation_like_list,\n",
    "        \"Test Log Likelihood\":Test_like_list \n",
    "    },\n",
    "    index = ['Robbins-Monro']\n",
    ")\n",
    "new_dataframe"
   ]
  },
  {
   "cell_type": "markdown",
   "metadata": {},
   "source": [
    "### 2.1.2 AdaM"
   ]
  },
  {
   "cell_type": "code",
   "execution_count": 27,
   "metadata": {},
   "outputs": [],
   "source": [
    "def get_AdaM_update(alpha_0,grad,adam_values,b1=.95,b2=.99,e=1e-8):\n",
    "    adam_values['t'] +=1\n",
    "    # update mean\n",
    "    adam_values['mean']=b1*adam_values['mean']+(1-b1)*grad\n",
    "    m_hat = adam_values['mean']/(1-b1**adam_values['t'])\n",
    "    #update variance\n",
    "    adam_values['var']=b2*adam_values['var']+(1-b2)*grad**2\n",
    "    v_hat = adam_values['var']/(1-b2**adam_values['t'])\n",
    "    return alpha_0 * m_hat/(np.sqrt(v_hat)+e)\n",
    "\n",
    "def train_stoch_Adam(X,beta,Y,alpha0,M,stopEpochs):\n",
    "    N,P = X.shape\n",
    "    alpha = alpha0\n",
    "    t_ext = np.int(np.floor(stopEpochs*N/M))\n",
    "    log_like = arr([None]*stopEpochs)\n",
    "    j = 0\n",
    "    res = [np.floor((t_ext)/stopEpochs),np.ceil((t_ext)/stopEpochs)]\n",
    "    for i in range(t_ext):\n",
    "        alpha = alpha0/(i+1)\n",
    "        beta_grad = loglike_grad_stoch(Xtr,beta,Ytr,M)\n",
    "        beta_update = get_AdaM_update(alpha_0,beta_grad,adam_values)\n",
    "        beta+=beta_update\n",
    "        if i%np.int(res[1]) ==0 or i == np.int(t_ext-1):\n",
    "            log_like[j] = loglike(X,beta,Y)\n",
    "            if j<stopEpochs-1:\n",
    "                j +=1\n",
    "    return beta,log_like"
   ]
  },
  {
   "cell_type": "code",
   "execution_count": 28,
   "metadata": {},
   "outputs": [
    {
     "name": "stdout",
     "output_type": "stream",
     "text": [
      "2366\n"
     ]
    }
   ],
   "source": [
    "batch_size = [200]\n",
    "stopEpochs = 50\n",
    "beta_matrix2,loglike_matrix2 = get_matrix2(Xtr,batch_size,stopEpochs)\n",
    "beta = np.random.normal(scale=.001,size=(Xtr.shape[1],1))\n",
    "loglike_matrix2[:,0] = loglike(Xtr,beta,Ytr)\n",
    "adam_values = {'mean':np.zeros(beta.shape),'var':np.zeros(beta.shape),'t':0}\n",
    "for k,M in enumerate(batch_size):\n",
    "    endl = np.int(np.floor(stopEpochs*Xtr.shape[0]/M))\n",
    "    print(endl)\n",
    "    alpha_0 = 0.001\n",
    "    beta,log_like = train_stoch_Adam(Xtr,beta,Ytr,alpha_0,M,stopEpochs)\n",
    "    beta_matrix2[:,k] = beta.T.flatten()\n",
    "    loglike_matrix2[1:,k] = log_like.T.flatten()   "
   ]
  },
  {
   "cell_type": "code",
   "execution_count": 29,
   "metadata": {},
   "outputs": [
    {
     "data": {
      "text/plain": [
       "(-0.8, 0.0)"
      ]
     },
     "execution_count": 29,
     "metadata": {},
     "output_type": "execute_result"
    },
    {
     "data": {
      "image/png": "[encoded data removed]",
      "text/plain": [
       "<Figure size 648x576 with 1 Axes>"
      ]
     },
     "metadata": {
      "needs_background": "light"
     },
     "output_type": "display_data"
    }
   ],
   "source": [
    "validation_loglike = np.zeros((1,1))\n",
    "for i in range(1):\n",
    "    validation_loglike[i] = loglike(Xva,beta_matrix2,Yva)\n",
    "test_loglike = loglike(Xte,beta_matrix2,Yte)\n",
    "fig,ax = plt.subplots(1,1,figsize=(9,8))\n",
    "ax.plot(range(0,stopEpochs+1),loglike_matrix2,'b--')\n",
    "ax.hlines(validation_loglike, 0, stopEpochs, colors='g')\n",
    "ax.hlines(test_loglike, 0, stopEpochs, colors = 'k')\n",
    "ax.legend([\"Traning, AdaM\",\n",
    "           \"Validation, AdaM\",\n",
    "           \"Test, AdaM\"])\n",
    "ax.set_title(\"AdaM MNIST Results for Various Logistic Regresion Models\",fontsize=15)\n",
    "plt.xlabel(\"Epoch (t)\",fontsize=15)\n",
    "plt.ylabel(\"Log Likelihood\",fontsize=15)\n",
    "plt.xlim((0,50))\n",
    "plt.ylim((-0.8,0.0))"
   ]
  },
  {
   "cell_type": "code",
   "execution_count": 30,
   "metadata": {},
   "outputs": [],
   "source": [
    "Training_Error_list = [None]*1\n",
    "Validation_Error_list = [None]*1\n",
    "Test_Error_list = [None]*1\n",
    "Training_like_list = [None]*1\n",
    "Validation_like_list = [None]*1\n",
    "Test_like_list = [None]*1\n",
    "for i in range(1):\n",
    "    Training_Error_list[i]  = err_rate(Xtr,beta_matrix2[:,i],Ytr)\n",
    "    Validation_Error_list[i]= err_rate(Xva,beta_matrix2[:,i],Yva)\n",
    "    Test_Error_list[i]      = err_rate(Xte,beta_matrix2[:,i],Yte)\n",
    "    Training_like_list[i]   = loglike(Xtr,beta_matrix2[:,i],Ytr)\n",
    "    Validation_like_list[i] = loglike(Xva,beta_matrix2[:,i],Yva)\n",
    "    Test_like_list[i]       = loglike(Xte,beta_matrix2[:,i],Yte)"
   ]
  },
  {
   "cell_type": "code",
   "execution_count": 31,
   "metadata": {},
   "outputs": [
    {
     "data": {
      "text/html": [
       "<div>\n",
       "<style scoped>\n",
       "    .dataframe tbody tr th:only-of-type {\n",
       "        vertical-align: middle;\n",
       "    }\n",
       "\n",
       "    .dataframe tbody tr th {\n",
       "        vertical-align: top;\n",
       "    }\n",
       "\n",
       "    .dataframe thead th {\n",
       "        text-align: right;\n",
       "    }\n",
       "</style>\n",
       "<table border=\"1\" class=\"dataframe\">\n",
       "  <thead>\n",
       "    <tr style=\"text-align: right;\">\n",
       "      <th></th>\n",
       "      <th>Training Error</th>\n",
       "      <th>Validation Error</th>\n",
       "      <th>Test Error</th>\n",
       "    </tr>\n",
       "  </thead>\n",
       "  <tbody>\n",
       "    <tr>\n",
       "      <th>AdaM</th>\n",
       "      <td>0.010774</td>\n",
       "      <td>0.013942</td>\n",
       "      <td>0.014099</td>\n",
       "    </tr>\n",
       "  </tbody>\n",
       "</table>\n",
       "</div>"
      ],
      "text/plain": [
       "      Training Error  Validation Error  Test Error\n",
       "AdaM        0.010774          0.013942    0.014099"
      ]
     },
     "execution_count": 31,
     "metadata": {},
     "output_type": "execute_result"
    }
   ],
   "source": [
    "import pandas as pd\n",
    "import os\n",
    "new_dataframe = pd.DataFrame(\n",
    "    {\n",
    "        \"Training Error\" : Training_Error_list,\n",
    "        \"Validation Error\":Validation_Error_list,\n",
    "        \"Test Error\":Test_Error_list \n",
    "    },\n",
    "    index = ['AdaM']\n",
    ")\n",
    "new_dataframe"
   ]
  },
  {
   "cell_type": "code",
   "execution_count": 32,
   "metadata": {},
   "outputs": [
    {
     "data": {
      "text/html": [
       "<div>\n",
       "<style scoped>\n",
       "    .dataframe tbody tr th:only-of-type {\n",
       "        vertical-align: middle;\n",
       "    }\n",
       "\n",
       "    .dataframe tbody tr th {\n",
       "        vertical-align: top;\n",
       "    }\n",
       "\n",
       "    .dataframe thead th {\n",
       "        text-align: right;\n",
       "    }\n",
       "</style>\n",
       "<table border=\"1\" class=\"dataframe\">\n",
       "  <thead>\n",
       "    <tr style=\"text-align: right;\">\n",
       "      <th></th>\n",
       "      <th>Training Log Likelihood</th>\n",
       "      <th>Validation Log Likelihood</th>\n",
       "      <th>Test Log Likelihood</th>\n",
       "    </tr>\n",
       "  </thead>\n",
       "  <tbody>\n",
       "    <tr>\n",
       "      <th>Adam</th>\n",
       "      <td>-0.034846</td>\n",
       "      <td>-0.048913</td>\n",
       "      <td>-0.048107</td>\n",
       "    </tr>\n",
       "  </tbody>\n",
       "</table>\n",
       "</div>"
      ],
      "text/plain": [
       "      Training Log Likelihood  Validation Log Likelihood  Test Log Likelihood\n",
       "Adam                -0.034846                  -0.048913            -0.048107"
      ]
     },
     "execution_count": 32,
     "metadata": {},
     "output_type": "execute_result"
    }
   ],
   "source": [
    "new_dataframe = pd.DataFrame(\n",
    "    {\n",
    "        \"Training Log Likelihood\" : Training_like_list,\n",
    "        \"Validation Log Likelihood\":Validation_like_list,\n",
    "        \"Test Log Likelihood\":Test_like_list \n",
    "    },\n",
    "    index = ['Adam']\n",
    ")\n",
    "new_dataframe"
   ]
  },
  {
   "cell_type": "markdown",
   "metadata": {},
   "source": [
    "### Prob 2.1.3 Newton-Raphson"
   ]
  },
  {
   "cell_type": "code",
   "execution_count": 1,
   "metadata": {},
   "outputs": [],
   "source": [
    "import numpy as np\n",
    "import matplotlib.pyplot as plt\n",
    "import math\n",
    "import pandas as pd\n",
    "from numpy import asarray as arr\n",
    "from numpy import asmatrix as mat\n",
    "from numpy import atleast_2d as twod\n",
    "def f(X,beta):\n",
    "    return 1/(1+np.exp(-X.dot(beta)))\n",
    "\n",
    "def dfdx(X,beta):\n",
    "    # ∂f(x,beta)/∂x = f(x,beta)(1 − f(x,beta))*∂z/∂x \n",
    "    return f(X,beta)*(1-f(X,beta))*beta  \n",
    "\n",
    "def loglike(X,beta,Y):\n",
    "    N,M = X.shape\n",
    "    like = [None]*N\n",
    "    for i in range(N):\n",
    "        like[i] = np.log(f(X[i,:],beta)) if Y[i] else np.log(1-f(X[i,:],beta))\n",
    "    return np.mean(like)\n",
    "\n",
    "def loglike_grad(X,beta,Y):\n",
    "    N,M = X.shape\n",
    "    like_grad_beta = [None]*M\n",
    "    like_grad_beta = np.dot((Y-f(X,beta)).T,X).T/N\n",
    "    return arr(like_grad_beta)\n",
    "\n",
    "def err_rate(X,beta,Y):\n",
    "    N,M = X.shape\n",
    "    predict = np.zeros(Y.shape)\n",
    "    predict[f(X,beta)>0.5]=1\n",
    "    return np.mean(predict!=Y)\n",
    "\n",
    "def train(X,beta,Y,alpha,stopEpochs=250):\n",
    "    log_like = arr([None]*stopEpochs)\n",
    "    for i in range(stopEpochs):\n",
    "        beta += alpha*loglike_grad(X,beta,Y)\n",
    "        log_like[i] = loglike(X,beta,Y)\n",
    "    return beta,log_like\n",
    "def get_matrix(X,parameter_list,stopEpochs):\n",
    "    beta_matrix = np.zeros((Xtr.shape[1],len(parameter_list)))\n",
    "    loglike_matrix = np.zeros((stopEpochs,len(parameter_list)))\n",
    "    return beta_matrix,loglike_matrix\n",
    "def load_data_pairs(type_str):\n",
    "    return pd.read_csv(\"./mnist_2s_and_6s/\"+type_str+\"_x.csv\").values,pd.read_csv(\"./mnist_2s_and_6s/\"+type_str+\"_y.csv\").values\n",
    "\n",
    "Xtr,Ytr = load_data_pairs(\"train\")\n",
    "Xva,Yva = load_data_pairs(\"valid\")\n",
    "Xte,Yte = load_data_pairs(\"test\")\n",
    "Xtr = np.hstack([Xtr,np.ones((Xtr.shape[0],1))])\n",
    "Xva = np.hstack([Xva,np.ones((Xva.shape[0],1))])\n",
    "Xte = np.hstack([Xte,np.ones((Xte.shape[0],1))])\n",
    "\n",
    "\n",
    "def get_matrix2(X,parameter_list,stopEpochs):\n",
    "    beta_matrix = np.zeros((Xtr.shape[1],len(parameter_list)))\n",
    "    loglike_matrix = np.zeros((stopEpochs+1,len(parameter_list)))\n",
    "    return beta_matrix,loglike_matrix\n",
    "\n",
    "def train_stoch_RM(X,beta,Y,alpha0,M,stopEpochs):\n",
    "    N,P = X.shape\n",
    "    alpha = alpha0\n",
    "    t_ext = np.int(np.floor(stopEpochs*N/M))\n",
    "    log_like = arr([None]*stopEpochs)\n",
    "    j = 0\n",
    "    res = [np.floor((t_ext)/stopEpochs),np.ceil((t_ext)/stopEpochs)]\n",
    "    for i in range(t_ext):\n",
    "        alpha = alpha0/(i+1)\n",
    "        beta += alpha*loglike_grad_stoch(X,beta,Y,M)\n",
    "        if i%np.random.choice(res) ==0:\n",
    "            log_like[j] = loglike(X,beta,Y)\n",
    "            if j<stopEpochs-1:\n",
    "                j +=1\n",
    "    return beta,log_like\n",
    "\n",
    "def loglike_grad_stoch(X,beta,Y,M):\n",
    "    N,P = X.shape\n",
    "    sample_stoch = np.sort(sample(range(N),np.int(M)))\n",
    "    like_grad_beta = [None]*P\n",
    "    like_grad_beta = np.dot((Y[sample_stoch]-f(X[sample_stoch],beta)).T,X[sample_stoch,:]).T/M\n",
    "    return arr(like_grad_beta)\n",
    "\n",
    "def train_stoch(X,beta,Y,alpha,M,stopEpochs):\n",
    "    N,P = X.shape\n",
    "    t_ext = np.int(np.floor(stopEpochs*N/M))\n",
    "    log_like = arr([None]*stopEpochs)\n",
    "    j = 0\n",
    "    for i in range(t_ext):\n",
    "        beta += alpha*loglike_grad_stoch(X,beta,Y,M)\n",
    "        res = [np.floor((t_ext)/stopEpochs),np.ceil((t_ext)/stopEpochs)]\n",
    "        if i%np.int(res[1]) ==0 or i == np.int(t_ext-1):\n",
    "            log_like[j] = loglike(X,beta,Y)\n",
    "            if j<stopEpochs-1:\n",
    "                j +=1\n",
    "    return beta,log_like"
   ]
  },
  {
   "cell_type": "code",
   "execution_count": 2,
   "metadata": {},
   "outputs": [],
   "source": [
    "import copy\n",
    "from random import sample\n",
    "def train_stoch_Newton(X,beta,Y,alpha0,M,stopEpochs):\n",
    "    N,P = X.shape\n",
    "    alpha = alpha0\n",
    "    t_ext = np.int(np.floor(stopEpochs*N/M))\n",
    "    log_like = arr([None]*stopEpochs)\n",
    "    j = 0\n",
    "    res = [np.floor((t_ext)/stopEpochs),np.ceil((t_ext)/stopEpochs)]\n",
    "    if stopEpochs*res[1]>t_ext:\n",
    "        res[1] =res[0]\n",
    "    for i in range(t_ext):\n",
    "        # At = np.diag(arr([f(Xtr[i,:],beta)*(1-f(Xtr[i,:],beta)) for i in range(Xtr.shape[0])]).T.flatten())\n",
    "        # alphat = np.dot(Xtr.T,At).dot(Xtr)\n",
    "        XtrT = copy.copy(Xtr.T)\n",
    "        for kk in range(Xtr.shape[0]):\n",
    "            XtrT[:,kk] *= f(Xtr[kk,:],beta)*(1-f(Xtr[kk,:],beta))\n",
    "        alphat = np.dot(XtrT,Xtr)                                 \n",
    "        #try:\n",
    "        #    alpha = np.linalg.inv(alphat)\n",
    "        #except np.linalg.LinAlgError:\n",
    "        #   alpha = np.linalg.pinv(alphat)\n",
    "        try:\n",
    "            beta_incre = np.linalg.solve(alphat, loglike_grad_stoch(X,beta,Y,M))\n",
    "            beta -= beta_incre\n",
    "        except np.linalg.LinAlgError:\n",
    "            alpha = np.linalg.pinv(alphat)\n",
    "            beta -= alpha.dot(loglike_grad_stoch(X,beta,Y,M))\n",
    "        # beta += alpha.dot(loglike_grad_stoch(X,beta,Y,M))\n",
    "        if i%np.int(res[1]) ==0 or i == np.int(t_ext-1):\n",
    "            log_like[j] = loglike(X,beta,Y)\n",
    "            if j<stopEpochs-1:\n",
    "                j +=1\n",
    "    return beta,log_like"
   ]
  },
  {
   "cell_type": "code",
   "execution_count": null,
   "metadata": {},
   "outputs": [
    {
     "name": "stdout",
     "output_type": "stream",
     "text": [
      "236\n"
     ]
    }
   ],
   "source": [
    "batch_size = [200]\n",
    "stopEpochs = 5\n",
    "beta_matrix2,loglike_matrix2 = get_matrix2(Xtr,batch_size,stopEpochs)\n",
    "beta = np.random.normal(scale=.001,size= (Xtr.shape[1],1))\n",
    "loglike_matrix2[:,0] = loglike(Xtr,beta,Ytr)\n",
    "\n",
    "for k,M in enumerate(batch_size):\n",
    "    endl = np.int(np.floor(stopEpochs*Xtr.shape[0]/M))\n",
    "    print(endl)\n",
    "    alpha = 0.1\n",
    "    beta,log_like = train_stoch_Newton(Xtr,beta,Ytr,alpha,M,stopEpochs)\n",
    "    beta_matrix2[:,k] = beta.T.flatten()\n",
    "    loglike_matrix2[1:,k] = log_like.T.flatten()   "
   ]
  },
  {
   "cell_type": "code",
   "execution_count": null,
   "metadata": {},
   "outputs": [],
   "source": [
    "loglike_matrix2"
   ]
  },
  {
   "cell_type": "code",
   "execution_count": null,
   "metadata": {},
   "outputs": [],
   "source": []
  },
  {
   "cell_type": "code",
   "execution_count": 37,
   "metadata": {},
   "outputs": [
    {
     "data": {
      "text/plain": [
       "(-0.8, 0.0)"
      ]
     },
     "execution_count": 37,
     "metadata": {},
     "output_type": "execute_result"
    },
    {
     "data": {
      "image/png": "[encoded data removed]",
      "text/plain": [
       "<Figure size 648x576 with 1 Axes>"
      ]
     },
     "metadata": {
      "needs_background": "light"
     },
     "output_type": "display_data"
    }
   ],
   "source": [
    "validation_loglike = np.zeros((1,1))\n",
    "for i in range(1):\n",
    "    validation_loglike[i] = loglike(Xva,beta_matrix2,Yva)\n",
    "test_loglike = loglike(Xte,beta_matrix2,Yte)\n",
    "fig,ax = plt.subplots(1,1,figsize=(9,8))\n",
    "ax.plot(range(0,stopEpochs+1),loglike_matrix2,'b--')\n",
    "ax.hlines(validation_loglike, 0, stopEpochs, colors='g')\n",
    "ax.hlines(test_loglike, 0, stopEpochs, colors = 'k')\n",
    "ax.legend([\"Traning, Newton\",\n",
    "           \"Validation, Newton\",\n",
    "           \"Test,Newton\"])\n",
    "ax.set_title(\"Newton MNIST Results for Various Logistic Regresion Models\",fontsize=15)\n",
    "plt.xlabel(\"Epoch (t)\",fontsize=15)\n",
    "plt.ylabel(\"Log Likelihood\",fontsize=15)\n",
    "plt.xlim((0,50))\n",
    "plt.ylim((-0.8,0.0))"
   ]
  },
  {
   "cell_type": "code",
   "execution_count": 38,
   "metadata": {},
   "outputs": [],
   "source": [
    "Training_Error_list = [None]*1\n",
    "Validation_Error_list = [None]*1\n",
    "Test_Error_list = [None]*1\n",
    "Training_like_list = [None]*1\n",
    "Validation_like_list = [None]*1\n",
    "Test_like_list = [None]*1\n",
    "for i in range(1):\n",
    "    Training_Error_list[i]  = err_rate(Xtr,beta_matrix2[:,i],Ytr)\n",
    "    Validation_Error_list[i]= err_rate(Xva,beta_matrix2[:,i],Yva)\n",
    "    Test_Error_list[i]      = err_rate(Xte,beta_matrix2[:,i],Yte)\n",
    "    Training_like_list[i]   = loglike(Xtr,beta_matrix2[:,i],Ytr)\n",
    "    Validation_like_list[i] = loglike(Xva,beta_matrix2[:,i],Yva)\n",
    "    Test_like_list[i]       = loglike(Xte,beta_matrix2[:,i],Yte)"
   ]
  },
  {
   "cell_type": "code",
   "execution_count": 39,
   "metadata": {},
   "outputs": [
    {
     "data": {
      "text/html": [
       "<div>\n",
       "<style scoped>\n",
       "    .dataframe tbody tr th:only-of-type {\n",
       "        vertical-align: middle;\n",
       "    }\n",
       "\n",
       "    .dataframe tbody tr th {\n",
       "        vertical-align: top;\n",
       "    }\n",
       "\n",
       "    .dataframe thead th {\n",
       "        text-align: right;\n",
       "    }\n",
       "</style>\n",
       "<table border=\"1\" class=\"dataframe\">\n",
       "  <thead>\n",
       "    <tr style=\"text-align: right;\">\n",
       "      <th></th>\n",
       "      <th>Training Error</th>\n",
       "      <th>Validation Error</th>\n",
       "      <th>Test Error</th>\n",
       "    </tr>\n",
       "  </thead>\n",
       "  <tbody>\n",
       "    <tr>\n",
       "      <th>Newton</th>\n",
       "      <td>0.01257</td>\n",
       "      <td>0.017744</td>\n",
       "      <td>0.020888</td>\n",
       "    </tr>\n",
       "  </tbody>\n",
       "</table>\n",
       "</div>"
      ],
      "text/plain": [
       "        Training Error  Validation Error  Test Error\n",
       "Newton         0.01257          0.017744    0.020888"
      ]
     },
     "execution_count": 39,
     "metadata": {},
     "output_type": "execute_result"
    }
   ],
   "source": [
    "import pandas as pd\n",
    "import os\n",
    "new_dataframe = pd.DataFrame(\n",
    "    {\n",
    "        \"Training Error\" : Training_Error_list,\n",
    "        \"Validation Error\":Validation_Error_list,\n",
    "        \"Test Error\":Test_Error_list \n",
    "    },\n",
    "    index = ['Newton']\n",
    ")\n",
    "new_dataframe"
   ]
  },
  {
   "cell_type": "code",
   "execution_count": 40,
   "metadata": {},
   "outputs": [
    {
     "data": {
      "text/html": [
       "<div>\n",
       "<style scoped>\n",
       "    .dataframe tbody tr th:only-of-type {\n",
       "        vertical-align: middle;\n",
       "    }\n",
       "\n",
       "    .dataframe tbody tr th {\n",
       "        vertical-align: top;\n",
       "    }\n",
       "\n",
       "    .dataframe thead th {\n",
       "        text-align: right;\n",
       "    }\n",
       "</style>\n",
       "<table border=\"1\" class=\"dataframe\">\n",
       "  <thead>\n",
       "    <tr style=\"text-align: right;\">\n",
       "      <th></th>\n",
       "      <th>Training Log Likelihood</th>\n",
       "      <th>Validation Log Likelihood</th>\n",
       "      <th>Test Log Likelihood</th>\n",
       "    </tr>\n",
       "  </thead>\n",
       "  <tbody>\n",
       "    <tr>\n",
       "      <th>Newton</th>\n",
       "      <td>-0.517984</td>\n",
       "      <td>-0.52127</td>\n",
       "      <td>-0.520857</td>\n",
       "    </tr>\n",
       "  </tbody>\n",
       "</table>\n",
       "</div>"
      ],
      "text/plain": [
       "        Training Log Likelihood  Validation Log Likelihood  \\\n",
       "Newton                -0.517984                   -0.52127   \n",
       "\n",
       "        Test Log Likelihood  \n",
       "Newton            -0.520857  "
      ]
     },
     "execution_count": 40,
     "metadata": {},
     "output_type": "execute_result"
    }
   ],
   "source": [
    "new_dataframe = pd.DataFrame(\n",
    "    {\n",
    "        \"Training Log Likelihood\" : Training_like_list,\n",
    "        \"Validation Log Likelihood\":Validation_like_list,\n",
    "        \"Test Log Likelihood\":Test_like_list \n",
    "    },\n",
    "    index = ['Newton']\n",
    ")\n",
    "new_dataframe"
   ]
  },
  {
   "cell_type": "code",
   "execution_count": null,
   "metadata": {},
   "outputs": [],
   "source": []
  },
  {
   "cell_type": "code",
   "execution_count": null,
   "metadata": {},
   "outputs": [],
   "source": []
  },
  {
   "cell_type": "code",
   "execution_count": null,
   "metadata": {},
   "outputs": [],
   "source": []
  },
  {
   "cell_type": "code",
   "execution_count": null,
   "metadata": {},
   "outputs": [],
   "source": []
  },
  {
   "cell_type": "code",
   "execution_count": null,
   "metadata": {},
   "outputs": [],
   "source": []
  },
  {
   "cell_type": "code",
   "execution_count": null,
   "metadata": {},
   "outputs": [],
   "source": []
  }
 ],
 "metadata": {
  "kernelspec": {
   "display_name": "Python 3",
   "language": "python",
   "name": "python3"
  },
  "language_info": {
   "codemirror_mode": {
    "name": "ipython",
    "version": 3
   },
   "file_extension": ".py",
   "mimetype": "text/x-python",
   "name": "python",
   "nbconvert_exporter": "python",
   "pygments_lexer": "ipython3",
   "version": "3.7.0"
  }
 },
 "nbformat": 4,
 "nbformat_minor": 2
}
